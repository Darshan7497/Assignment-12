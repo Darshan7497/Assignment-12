{
 "cells": [
  {
   "cell_type": "markdown",
   "id": "10806d08-f6c9-43d7-bac3-f7a472c0ea8a",
   "metadata": {},
   "source": [
    "Q1. What is an exception in python? Write the differences between Exceptions and Syntax errors."
   ]
  },
  {
   "cell_type": "markdown",
   "id": "38a6881f-3522-42f0-bf50-b92f2119dd2b",
   "metadata": {},
   "source": [
    "An exception is an error that occurs during program execution. When an exception occurs, the Python interpreter stops executing the program and raises an exception object. The exception object contains information about the type of error that occurred, as well as any other relevant details that can help with debugging.\n",
    "\n",
    "Syntax errors, on the other hand, occur when the Python interpreter is unable to parse the code due to a mistake in the syntax. These errors usually occur when the code contains spelling mistakes, incorrect punctuation, or missing brackets."
   ]
  },
  {
   "cell_type": "raw",
   "id": "39efcdb5-3707-43bb-9e14-2fa4279db173",
   "metadata": {},
   "source": [
    "Q2. What happens when an exception is not handled? Explain with an example."
   ]
  },
  {
   "cell_type": "markdown",
   "id": "eb28f927-adee-44e1-a8bd-dce1258ff56f",
   "metadata": {},
   "source": [
    "When an exception is not handled in a Python program, the program terminates abruptly and prints an error message to the console. This behavior is known as an \"unhandled exception\" or a \"runtime error.\""
   ]
  },
  {
   "cell_type": "code",
   "execution_count": 1,
   "id": "49e88d43-4366-45b5-9103-a687707b7532",
   "metadata": {},
   "outputs": [
    {
     "ename": "ZeroDivisionError",
     "evalue": "division by zero",
     "output_type": "error",
     "traceback": [
      "\u001b[0;31m---------------------------------------------------------------------------\u001b[0m",
      "\u001b[0;31mZeroDivisionError\u001b[0m                         Traceback (most recent call last)",
      "Cell \u001b[0;32mIn[1], line 4\u001b[0m\n\u001b[1;32m      2\u001b[0m numerator \u001b[38;5;241m=\u001b[39m \u001b[38;5;241m10\u001b[39m\n\u001b[1;32m      3\u001b[0m denominator \u001b[38;5;241m=\u001b[39m \u001b[38;5;241m0\u001b[39m\n\u001b[0;32m----> 4\u001b[0m result \u001b[38;5;241m=\u001b[39m \u001b[43mnumerator\u001b[49m\u001b[43m \u001b[49m\u001b[38;5;241;43m/\u001b[39;49m\u001b[43m \u001b[49m\u001b[43mdenominator\u001b[49m\n\u001b[1;32m      5\u001b[0m \u001b[38;5;28mprint\u001b[39m(result)\n",
      "\u001b[0;31mZeroDivisionError\u001b[0m: division by zero"
     ]
    }
   ],
   "source": [
    "#Exmaple\n",
    "numerator = 10\n",
    "denominator = 0\n",
    "result = numerator / denominator\n",
    "print(result)"
   ]
  },
  {
   "cell_type": "markdown",
   "id": "e8fe4767-5d3b-4ef2-9468-94c0e7d3036a",
   "metadata": {},
   "source": [
    "Q3. Which Python statements are used to catch and handle exceptions? Explain with an example."
   ]
  },
  {
   "cell_type": "markdown",
   "id": "5c6ce5d8-510e-491c-9a57-11ed21d65443",
   "metadata": {},
   "source": [
    "The try and except block in Python is used to catch and handle exceptions"
   ]
  },
  {
   "cell_type": "code",
   "execution_count": 2,
   "id": "3688f961-0067-4ed9-bf89-e2c7020b0988",
   "metadata": {},
   "outputs": [
    {
     "name": "stdout",
     "output_type": "stream",
     "text": [
      "Cannot divide by zero!\n"
     ]
    }
   ],
   "source": [
    "try:\n",
    "    x = 10 / 0\n",
    "except ZeroDivisionError:\n",
    "    print(\"Cannot divide by zero!\")"
   ]
  },
  {
   "cell_type": "markdown",
   "id": "88dea9e9-02de-4cb6-8f94-6f7cfad14f9f",
   "metadata": {},
   "source": [
    "In this code, we are trying to divide the number 10 by 0, which will result in a 'ZeroDivisionError' exception. We have provided a handler for this exception in the 'except' block, which will be executed if the exception is raised.\n",
    "This output (Cannot divide by zero!) indicates that the exception was caught and handled by the 'except' block, which displayed a helpful error message to the user."
   ]
  },
  {
   "cell_type": "markdown",
   "id": "6a1d95d9-d257-4a2b-8530-9d291c300587",
   "metadata": {},
   "source": [
    "Q4. Explain with an example:\n"
   ]
  },
  {
   "cell_type": "markdown",
   "id": "a6f41bee-05e3-4e35-b5b2-f849e10eaddb",
   "metadata": {},
   "source": [
    "a. try and else\n",
    "\n",
    "\n",
    "b. finally\n",
    "\n",
    "\n",
    "c. raise\n",
    "\n",
    "\n",
    "\n",
    "\n",
    "\n",
    "\n",
    "\n",
    "a. 'try' and 'else':\n",
    "In Python, you can use the else block with a try block to specify code that should be executed if no exception is raised. Here's an example:"
   ]
  },
  {
   "cell_type": "code",
   "execution_count": 3,
   "id": "9c01cb04-867e-42b9-9d4c-01a22c25ebc0",
   "metadata": {},
   "outputs": [
    {
     "name": "stdin",
     "output_type": "stream",
     "text": [
      "Enter a number:  98\n"
     ]
    },
    {
     "name": "stdout",
     "output_type": "stream",
     "text": [
      "You entered: 98\n"
     ]
    }
   ],
   "source": [
    "try:\n",
    "    x = int(input(\"Enter a number: \"))\n",
    "except ValueError:\n",
    "    print(\"Invalid input\")\n",
    "else:\n",
    "    print(\"You entered:\", x)\n",
    "\n"
   ]
  },
  {
   "cell_type": "markdown",
   "id": "a336dc6d-3fe0-4c5b-af05-55aefbe1c79b",
   "metadata": {},
   "source": [
    "In this code, we use the 'try' block to attempt to convert user input to an integer. If the user enters something that can't be converted to an integer, a 'ValueError' exception is raised and the 'except' block is executed, which displays an error message. If the conversion is successful, the 'else' block is executed, which displays the converted integer.\n"
   ]
  },
  {
   "cell_type": "markdown",
   "id": "e3560c64-12f3-4138-8174-f46e20f06ef5",
   "metadata": {},
   "source": [
    "b. 'finally':\n",
    "In Python, you can use the 'finally' block to specify code that should be executed regardless of whether an exception is raised. Here's an example:\n"
   ]
  },
  {
   "cell_type": "code",
   "execution_count": null,
   "id": "0a4e2dcf-fb74-43bd-b972-2e89d9f10d4d",
   "metadata": {},
   "outputs": [],
   "source": [
    "try:\n",
    "    f = open(\"myfile.txt\", \"r\")\n",
    "finally:\n",
    "    f.close()\n"
   ]
  },
  {
   "cell_type": "markdown",
   "id": "87e288fa-246a-43f6-9ad2-8e66793f90e2",
   "metadata": {},
   "source": [
    "In this code, we use the 'try' block to open a file and perform some operation on it. The 'finally' block is used to ensure that the file is closed, regardless of whether an exception is raised."
   ]
  },
  {
   "cell_type": "markdown",
   "id": "61373ee7-6629-4557-ac7a-73282b1e6a52",
   "metadata": {},
   "source": [
    "c. 'raise':\n",
    "In Python, you can use the 'raise' statement to explicitly raise an exception. Here's an example:"
   ]
  },
  {
   "cell_type": "code",
   "execution_count": 5,
   "id": "bb148e19-1685-47ce-a7b6-e866aca837e5",
   "metadata": {},
   "outputs": [
    {
     "ename": "ValueError",
     "evalue": "Invalid value for x",
     "output_type": "error",
     "traceback": [
      "\u001b[0;31m---------------------------------------------------------------------------\u001b[0m",
      "\u001b[0;31mValueError\u001b[0m                                Traceback (most recent call last)",
      "Cell \u001b[0;32mIn[5], line 3\u001b[0m\n\u001b[1;32m      1\u001b[0m x \u001b[38;5;241m=\u001b[39m \u001b[38;5;241m-\u001b[39m\u001b[38;5;241m1\u001b[39m\n\u001b[1;32m      2\u001b[0m \u001b[38;5;28;01mif\u001b[39;00m x \u001b[38;5;241m<\u001b[39m \u001b[38;5;241m0\u001b[39m:\n\u001b[0;32m----> 3\u001b[0m     \u001b[38;5;28;01mraise\u001b[39;00m \u001b[38;5;167;01mValueError\u001b[39;00m(\u001b[38;5;124m\"\u001b[39m\u001b[38;5;124mInvalid value for x\u001b[39m\u001b[38;5;124m\"\u001b[39m)\n",
      "\u001b[0;31mValueError\u001b[0m: Invalid value for x"
     ]
    }
   ],
   "source": [
    "x = -1\n",
    "if x < 0:\n",
    "    raise ValueError(\"Invalid value for x\")"
   ]
  },
  {
   "cell_type": "markdown",
   "id": "3d86fb9f-6977-4c78-86bc-7af0eda9003d",
   "metadata": {},
   "source": [
    "In this code, we check if the value of 'x' is negative. If it is, we raise a 'ValueError' exception with a custom error message. This can be useful for signaling errors in your code, or for creating custom exceptions that provide more information about the error that occurred."
   ]
  },
  {
   "cell_type": "markdown",
   "id": "242c8b99-d2e5-40d7-946e-a5c49bd51bee",
   "metadata": {},
   "source": [
    "Q5. What are Custom Exceptions in Python? Why do we need Custom Exceptions? Explain with an example."
   ]
  },
  {
   "cell_type": "markdown",
   "id": "b0195f9f-de41-418c-aeca-79f0ab906f7e",
   "metadata": {},
   "source": [
    "In Python, you can define your own custom exceptions by creating a new class that inherits from the built-in 'Exception' class or one of its subclasses. Custom exceptions can be useful for handling specific types of errors in your code or for providing more descriptive error messages.\n",
    "Here's an example of how to define a custom exception:"
   ]
  },
  {
   "cell_type": "code",
   "execution_count": null,
   "id": "4538a231-e5c1-43e6-9b60-907544d153f6",
   "metadata": {},
   "outputs": [],
   "source": [
    "class NegativeNumberError(Exception):\n",
    "    pass"
   ]
  },
  {
   "cell_type": "markdown",
   "id": "9e8aef71-24c1-40af-8264-e34fadf6fd14",
   "metadata": {},
   "source": [
    "In this code, we define a new class called 'NegativeNumberError' that inherits from the built-in 'Exception' class. We don't define any additional methods or attributes in this class, so it doesn't behave any differently from the built-in 'Exception' class. However, we can use this custom exception to handle errors that occur when negative numbers are used in our code.\n",
    "Here's an example of how to use the 'NegativeNumberError' exception in our code"
   ]
  },
  {
   "cell_type": "code",
   "execution_count": null,
   "id": "8f7e40f8-85ee-4fcc-95a7-eb991309674d",
   "metadata": {},
   "outputs": [],
   "source": [
    "def calculate_square_root(x):\n",
    "    if x < 0:\n",
    "        raise NegativeNumberError(\"Cannot calculate square root of a negative number\")\n",
    "    # calculate square root of x\n",
    "    return result"
   ]
  },
  {
   "cell_type": "markdown",
   "id": "a1a7c9b4-031d-475c-8301-cea15eb7d7d0",
   "metadata": {},
   "source": [
    "In this code, we define a function called 'calculate_square_root' that takes a number 'x' as input and calculates its square root. If the value of 'x' is negative, we raise a 'NegativeNumberError' exception with a custom error message. This exception can be caught and handled by an appropriate 'try-except' block.\n",
    "By defining and using custom exceptions, we can make our code more expressive and easier to understand. Custom exceptions can also help with debugging by providing more specific information about the errors that occur in our code."
   ]
  },
  {
   "cell_type": "markdown",
   "id": "a682f019-b7fa-4f4d-ba28-16f6291195ff",
   "metadata": {},
   "source": [
    "Q6. Create a custom exception class. Use this class to handle an exception."
   ]
  },
  {
   "cell_type": "code",
   "execution_count": null,
   "id": "d80f760b-39df-491f-8b0f-a58bb95aceb7",
   "metadata": {},
   "outputs": [],
   "source": [
    "class InvalidInputError(Exception):\n",
    "    pass\n",
    "\n",
    "def square_root(x):\n",
    "    if x < 0:\n",
    "        raise InvalidInputError(\"Cannot take the square root of a negative number.\")\n",
    "    else:\n",
    "        return x**2\n",
    "\n",
    "try:\n",
    "    result = square_root(-4)\n",
    "except InvalidInputError as e:\n",
    "    print(\"Error: \" + str(e))"
   ]
  }
 ],
 "metadata": {
  "kernelspec": {
   "display_name": "Python 3 (ipykernel)",
   "language": "python",
   "name": "python3"
  },
  "language_info": {
   "codemirror_mode": {
    "name": "ipython",
    "version": 3
   },
   "file_extension": ".py",
   "mimetype": "text/x-python",
   "name": "python",
   "nbconvert_exporter": "python",
   "pygments_lexer": "ipython3",
   "version": "3.10.8"
  }
 },
 "nbformat": 4,
 "nbformat_minor": 5
}
